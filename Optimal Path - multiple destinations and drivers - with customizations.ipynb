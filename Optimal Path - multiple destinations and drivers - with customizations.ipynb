{
 "cells": [
  {
   "cell_type": "markdown",
   "id": "breeding-reading",
   "metadata": {},
   "source": [
    "In this notebook we will deal with multiple destinations and drivers. Based on the given number of drivers we use K-means to cluster the destinations.  Then, within each driver's cluster, we create an algorithm that uses the A* algorithm to compute the best ordering of destinations, along with the optimal path from place to place.  \n",
    "\n",
    "We use edge weights to allow for optimizing by travel time or total distance travelled. \n",
    "\n",
    "As with our work with one destination we will allow for further customization by the user - avoiding highways or providing a list of streets they would like to avoid.\n",
    "\n",
    "NOTE:  the result of this notebook will be outputs that show the route, edge by edge, along with edge information.  Destination markers and turn directions have been added.  Further work will be done to simplify this output as was done with the one destination."
   ]
  },
  {
   "cell_type": "code",
   "execution_count": 1,
   "id": "thousand-metallic",
   "metadata": {},
   "outputs": [],
   "source": [
    "import osmnx as ox\n",
    "import networkx as nx\n",
    "import numpy as np\n",
    "import pandas as pd\n",
    "import matplotlib.pyplot as plt\n",
    "import plotly.graph_objects as go\n",
    "from geopy.geocoders import Nominatim\n",
    "import geopy.distance\n",
    "from math import atan2, pi\n",
    "from sklearn.cluster import KMeans"
   ]
  },
  {
   "cell_type": "code",
   "execution_count": 2,
   "id": "bibliographic-dimension",
   "metadata": {},
   "outputs": [],
   "source": [
    "# Build a graph - this is the Whitby/Oshawa area for testing purposes\n",
    "G = ox.graph_from_bbox(43.984503, 43.862879, -78.954552, -78.821660, network_type='drive')\n",
    "# Add edge speed attributes\n",
    "G = ox.add_edge_speeds(G)"
   ]
  },
  {
   "cell_type": "code",
   "execution_count": 3,
   "id": "timely-leave",
   "metadata": {},
   "outputs": [
    {
     "data": {
      "text/plain": [
       "{'osmid': 424417362,\n",
       " 'lanes': '2',\n",
       " 'name': 'Garrard Road',\n",
       " 'highway': 'residential',\n",
       " 'oneway': False,\n",
       " 'length': 12.565,\n",
       " 'speed_kph': 46.5}"
      ]
     },
     "execution_count": 3,
     "metadata": {},
     "output_type": "execute_result"
    }
   ],
   "source": [
    "# Check one edge \n",
    "G.edges[(699620, 4238293220, 0)]"
   ]
  },
  {
   "cell_type": "code",
   "execution_count": 4,
   "id": "sensitive-clarity",
   "metadata": {},
   "outputs": [
    {
     "data": {
      "text/plain": [
       "12041"
      ]
     },
     "execution_count": 4,
     "metadata": {},
     "output_type": "execute_result"
    }
   ],
   "source": [
    "# Check total number of edges \n",
    "len(G.edges)"
   ]
  },
  {
   "cell_type": "code",
   "execution_count": 5,
   "id": "lined-statistics",
   "metadata": {},
   "outputs": [
    {
     "name": "stdout",
     "output_type": "stream",
     "text": [
      "12041\n"
     ]
    }
   ],
   "source": [
    "# We want to ensure every edge properly has a speed attribute \n",
    "good = 0\n",
    "for edge in G.edges:\n",
    "    if 'speed_kph' in G.edges[edge].keys():\n",
    "        good += 1\n",
    "    else:\n",
    "        print(G.edges[edge]['highway'])\n",
    "print(good)"
   ]
  },
  {
   "cell_type": "code",
   "execution_count": 6,
   "id": "occupied-cheese",
   "metadata": {},
   "outputs": [
    {
     "name": "stdout",
     "output_type": "stream",
     "text": [
      "{64.4, 65.0, 100.0, 70.0, 71.0, 40.0, 75.0, 45.0, 46.5, 80.0, 49.6, 50.0, 20.0, 55.0, 55.2, 60.0, 30.0}\n"
     ]
    }
   ],
   "source": [
    "# We want to make sure all of the speeds are appropriate values\n",
    "speeds = []\n",
    "for edge in G.edges:\n",
    "    speeds.append(G.edges[edge]['speed_kph'])\n",
    "\n",
    "speeds = set(speeds)\n",
    "print(speeds)"
   ]
  },
  {
   "cell_type": "code",
   "execution_count": 7,
   "id": "entitled-paraguay",
   "metadata": {},
   "outputs": [],
   "source": [
    "# Add travel time attributes\n",
    "G = ox.add_edge_travel_times(G)"
   ]
  },
  {
   "cell_type": "code",
   "execution_count": 8,
   "id": "lucky-indication",
   "metadata": {},
   "outputs": [
    {
     "data": {
      "text/plain": [
       "{'osmid': 424417362,\n",
       " 'lanes': '2',\n",
       " 'name': 'Garrard Road',\n",
       " 'highway': 'residential',\n",
       " 'oneway': False,\n",
       " 'length': 12.565,\n",
       " 'speed_kph': 46.5,\n",
       " 'travel_time': 1.0}"
      ]
     },
     "execution_count": 8,
     "metadata": {},
     "output_type": "execute_result"
    }
   ],
   "source": [
    "# Check one edge \n",
    "G.edges[(699620, 4238293220, 0)]"
   ]
  },
  {
   "cell_type": "code",
   "execution_count": 9,
   "id": "touched-bumper",
   "metadata": {},
   "outputs": [
    {
     "name": "stdout",
     "output_type": "stream",
     "text": [
      "12041\n"
     ]
    }
   ],
   "source": [
    "# We want to ensure every edge properly has a travel time\n",
    "good = 0\n",
    "for edge in G.edges:\n",
    "    if 'travel_time' in G.edges[edge].keys():\n",
    "        good += 1\n",
    "    else:\n",
    "        print(G.edges[edge]['highway'])\n",
    "print(good)"
   ]
  },
  {
   "cell_type": "code",
   "execution_count": 10,
   "id": "invisible-leave",
   "metadata": {},
   "outputs": [
    {
     "name": "stdout",
     "output_type": "stream",
     "text": [
      "0.3\n",
      "143.6\n"
     ]
    }
   ],
   "source": [
    "# We want to make sure all of the travel times are appropriate values\n",
    "times = []\n",
    "for edge in G.edges:\n",
    "    times.append(G.edges[edge]['travel_time'])\n",
    "\n",
    "times = set(times)\n",
    "print(min(times))\n",
    "print(max(times))"
   ]
  },
  {
   "cell_type": "code",
   "execution_count": 11,
   "id": "immune-municipality",
   "metadata": {},
   "outputs": [],
   "source": [
    "def build_graph(east, west, south, north):\n",
    "    \"\"\"\n",
    "    Define the limits of the map by specifying the boundary longitudes\n",
    "    and latitudes.\n",
    "    \n",
    "    Create the graph object.\n",
    "    \n",
    "    Return the graph.\n",
    "    \"\"\"\n",
    "    G = ox.graph_from_bbox(east, west, south, north, network_type = 'drive') \n",
    "    G = ox.add_edge_speeds(G)\n",
    "    G = ox.add_edge_travel_times(G)\n",
    "    return G"
   ]
  },
  {
   "cell_type": "markdown",
   "id": "confused-panama",
   "metadata": {},
   "source": [
    "### Helper Functions"
   ]
  },
  {
   "cell_type": "code",
   "execution_count": 12,
   "id": "stupid-mistake",
   "metadata": {},
   "outputs": [],
   "source": [
    "def address_to_coord(address):\n",
    "    \"\"\"\n",
    "    Take address information and use Geopy to get its coordinates.   \n",
    "    \"\"\"\n",
    "    locator = Nominatim(user_agent = 'capstone2_project')\n",
    "    location = locator.geocode(address)\n",
    "    \n",
    "    if location:\n",
    "        return (location.latitude, location.longitude)\n",
    "    else:\n",
    "        print('Address Not Found')"
   ]
  },
  {
   "cell_type": "code",
   "execution_count": 13,
   "id": "quick-buyer",
   "metadata": {},
   "outputs": [
    {
     "data": {
      "text/plain": [
       "(43.879921100000004, -78.94055259302831)"
      ]
     },
     "execution_count": 13,
     "metadata": {},
     "output_type": "execute_result"
    }
   ],
   "source": [
    "# Define starting point\n",
    "start = address_to_coord('209 Dundas St E Whitby')\n",
    "start"
   ]
  },
  {
   "cell_type": "code",
   "execution_count": 14,
   "id": "spanish-stretch",
   "metadata": {},
   "outputs": [],
   "source": [
    "# Define destinations\n",
    "dest1 = address_to_coord('910 Dundas St W Whitby')\n",
    "dest2 = address_to_coord('3100 Garden Street Whitby')\n",
    "dest3 = address_to_coord('4081 Thickson Road N Whitby')\n",
    "dest4 = address_to_coord('728 Anderson Street Whitby')\n",
    "dest5 = address_to_coord('1801 Dundas St E Whitby')\n",
    "dest6 = address_to_coord('3500 Brock St N Whitby')"
   ]
  },
  {
   "cell_type": "code",
   "execution_count": 15,
   "id": "loved-queue",
   "metadata": {},
   "outputs": [
    {
     "data": {
      "text/plain": [
       "[(43.8761031, -78.9642643),\n",
       " (43.90189732393074, -78.94123924628661),\n",
       " (43.92343540288797, -78.92817613088428),\n",
       " (43.8934292, -78.9266608),\n",
       " (43.8880942, -78.9052277),\n",
       " (43.91177930263158, -78.95641609868422)]"
      ]
     },
     "execution_count": 15,
     "metadata": {},
     "output_type": "execute_result"
    }
   ],
   "source": [
    "destinations = [dest1, dest2, dest3, dest4, dest5, dest6]\n",
    "destinations"
   ]
  },
  {
   "cell_type": "code",
   "execution_count": 16,
   "id": "remarkable-mouse",
   "metadata": {},
   "outputs": [],
   "source": [
    "def cluster_destinations(destinations, drivers):\n",
    "    \"\"\"\n",
    "    Use the list of destination coordinates and the number of drivers.\n",
    "    Perform K-Means to cluster the destinations.\n",
    "    Returns the list of destination tuples separated as sublists according\n",
    "    to their cluster.\n",
    "    \"\"\"\n",
    "    kmeans = KMeans(n_clusters=drivers)\n",
    "    kmeans.fit(destinations)\n",
    "    clusters = []\n",
    "    for i in range(drivers):\n",
    "        group = []\n",
    "        for j in range(len(destinations)):\n",
    "            if kmeans.labels_[j] == i:\n",
    "                group.append(destinations[j])\n",
    "        clusters.append(group)\n",
    "    return clusters"
   ]
  },
  {
   "cell_type": "code",
   "execution_count": 20,
   "id": "moving-phrase",
   "metadata": {},
   "outputs": [
    {
     "data": {
      "text/plain": [
       "[[(43.90189732393074, -78.94123924628661),\n",
       "  (43.92343540288797, -78.92817613088428),\n",
       "  (43.8934292, -78.9266608),\n",
       "  (43.8880942, -78.9052277)],\n",
       " [(43.8761031, -78.9642643), (43.91177930263158, -78.95641609868422)]]"
      ]
     },
     "execution_count": 20,
     "metadata": {},
     "output_type": "execute_result"
    }
   ],
   "source": [
    "clusters = cluster_destinations(destinations, 2)\n",
    "clusters"
   ]
  },
  {
   "cell_type": "code",
   "execution_count": 22,
   "id": "agreed-secondary",
   "metadata": {},
   "outputs": [],
   "source": [
    "def coords_to_node(graph, coords):\n",
    "    \"\"\"\n",
    "    Take coordinates and returns the closest node in the graph.\n",
    "    \"\"\"\n",
    "    return ox.get_nearest_node(graph, coords)"
   ]
  },
  {
   "cell_type": "code",
   "execution_count": 23,
   "id": "simplified-review",
   "metadata": {},
   "outputs": [
    {
     "data": {
      "text/plain": [
       "392180675"
      ]
     },
     "execution_count": 23,
     "metadata": {},
     "output_type": "execute_result"
    }
   ],
   "source": [
    "start_node = coords_to_node(G, start)\n",
    "start_node"
   ]
  },
  {
   "cell_type": "code",
   "execution_count": 24,
   "id": "decreased-cloud",
   "metadata": {},
   "outputs": [
    {
     "data": {
      "text/plain": [
       "[[392164099, 3877460879, 392171046, 290584416], [392166620, 392177756]]"
      ]
     },
     "execution_count": 24,
     "metadata": {},
     "output_type": "execute_result"
    }
   ],
   "source": [
    "# Get destination nodes\n",
    "# Keep as a list of lists - according to clusters\n",
    "destination_nodes = []\n",
    "for i in range(len(clusters)):\n",
    "    inodes = []\n",
    "    for x in clusters[i]:\n",
    "        inodes.append(coords_to_node(G, x))\n",
    "    destination_nodes.append(inodes)\n",
    "destination_nodes"
   ]
  },
  {
   "cell_type": "code",
   "execution_count": 25,
   "id": "affected-cinema",
   "metadata": {},
   "outputs": [],
   "source": [
    "def node_to_coords(graph, node):\n",
    "    \"\"\"\n",
    "    Gets the latitude and logitude of a graph node.\n",
    "    \"\"\"\n",
    "    return (graph.nodes[node]['y'], graph.nodes[node]['x'])"
   ]
  },
  {
   "cell_type": "code",
   "execution_count": 37,
   "id": "eastern-christopher",
   "metadata": {},
   "outputs": [],
   "source": [
    "def dist(source_node, destination_node):\n",
    "    \"\"\"\n",
    "    Takes two nodes, gets their coordinates and uses Geopy to calculate \n",
    "    the distance between them in metres. \n",
    "    \"\"\"\n",
    "    return geopy.distance.distance(node_to_coords(G, source_node), \n",
    "                                    node_to_coords(G, destination_node)).m"
   ]
  },
  {
   "cell_type": "code",
   "execution_count": 38,
   "id": "excited-institute",
   "metadata": {},
   "outputs": [],
   "source": [
    "# We now work within a cluster \n",
    "# We want to keep track of the destinations visited within that cluster \n",
    "# and the optimal path from to visit each destination within the cluster.\n",
    "visited = []\n",
    "route = []"
   ]
  },
  {
   "cell_type": "code",
   "execution_count": 39,
   "id": "compact-strengthening",
   "metadata": {},
   "outputs": [],
   "source": [
    "def aStarMulti(start_node, destinations_nodes, graph, weight, visited, route):\n",
    "    \"\"\"\n",
    "    This algorithm will determine the order in which to visit each destination in each cluster,\n",
    "    and the optimal path from the start location, through all destinations.\n",
    "    We take the starting location, the list of destinations, the graph, the chosen weight - \n",
    "    'travel_time' or 'length' - and the two previous lists. \n",
    "    This is a recursive function.  While there are destinations still to visit, the reached\n",
    "    destination becomes the starting point for the next function call. \n",
    "    \"\"\"\n",
    "   \n",
    "    if not destinations_nodes:\n",
    "        return 'Done'    \n",
    "    # For each destination, calculate the distance to the starting point\n",
    "    distances = []\n",
    "    for d in destinations_nodes:\n",
    "        distances.append(dist(start_node, d))\n",
    "    # Get the index of the closest destination\n",
    "    minIndex = distances.index(min(distances))\n",
    "    # Get the corresponding destination node\n",
    "    minNode = destinations_nodes[minIndex]\n",
    "    # Add this to the list of visited destinations\n",
    "    visited.append(minNode)\n",
    "    # Get the optimal path to this destination\n",
    "    path = nx.astar_path(graph, start_node, minNode, weight=weight, heuristic=dist)\n",
    "    # Add this to the current route\n",
    "    route.append(path)\n",
    "    # Remove this destination from the list\n",
    "    destinations_nodes.pop(minIndex)\n",
    "    # If there are still destinations to visit, call the function again with the \n",
    "    # current location as the new starting point\n",
    "    if destination_nodes:\n",
    "        aStarMulti(minNode, destinations_nodes, graph, weight, visited, route)"
   ]
  },
  {
   "cell_type": "code",
   "execution_count": 40,
   "id": "eligible-simple",
   "metadata": {},
   "outputs": [],
   "source": [
    "# In our example we are working with two clusters \n",
    "# Get the route for the first cluster of destinations\n",
    "aStarMulti(start_node, destination_nodes[0], G, 'travel_time', visited, route)"
   ]
  },
  {
   "cell_type": "code",
   "execution_count": 41,
   "id": "instructional-fighter",
   "metadata": {},
   "outputs": [
    {
     "data": {
      "text/plain": [
       "[392171046, 392164099, 3877460879, 290584416]"
      ]
     },
     "execution_count": 41,
     "metadata": {},
     "output_type": "execute_result"
    }
   ],
   "source": [
    "# Check that destinations have been visited\n",
    "visited"
   ]
  },
  {
   "cell_type": "code",
   "execution_count": 42,
   "id": "chubby-marsh",
   "metadata": {},
   "outputs": [],
   "source": [
    "# Our current route is a list of lists, and since the end point of each leg becomes\n",
    "# the starting point for the next one, these nodes appear twice. \n",
    "# Here we want to remove this duplication while also converting the route into one list\n",
    "route_list = []\n",
    "route_list.append(route[0][0])\n",
    "# For each leg of the route\n",
    "for i in route:\n",
    "    # For each node in the leg\n",
    "    for j in i:\n",
    "        if route_list[-1] != j:\n",
    "            route_list.append(j)"
   ]
  },
  {
   "cell_type": "code",
   "execution_count": 43,
   "id": "compact-ceremony",
   "metadata": {},
   "outputs": [],
   "source": [
    "def direction_between_points(pt1, pt2):\n",
    "    \"\"\"\n",
    "    Takes two tuples of latitudes and longitudes.\n",
    "    Returns the compass direction from point 1 to point 2.\n",
    "    \"\"\"\n",
    "    delta_x = pt2[1] - pt1[1]\n",
    "    delta_y = pt2[0] - pt1[0]\n",
    "    \n",
    "    degrees = atan2(delta_x, delta_y) / pi*180\n",
    "    \n",
    "    if degrees < 0:\n",
    "        degrees = 360 + degrees\n",
    "    \n",
    "    compass = ['north', 'northeast', 'east', 'southeast', \n",
    "               'south', 'southwest', 'west', 'northwest', 'north']\n",
    "    \n",
    "    compass_dir = round(degrees/45)\n",
    "    return compass[compass_dir]"
   ]
  },
  {
   "cell_type": "code",
   "execution_count": 44,
   "id": "acceptable-dream",
   "metadata": {},
   "outputs": [],
   "source": [
    "def full_route_info(graph, route, dests_list):\n",
    "    \"\"\"\n",
    "    Creates a DataFrame containing the starting node, street name,\n",
    "    length, direction of travel, speed, and ending node, for each edge in the graph. \n",
    "    We will also label which nodes represent the user's destinations. \n",
    "    \"\"\"\n",
    "    route_info = list()\n",
    "    num_steps = len(route)\n",
    "    i = 0\n",
    "    j = 1\n",
    "# We want to get the information for every step in the route\n",
    "# We handle if any information is unlisted or unknown\n",
    "    while j < num_steps:\n",
    "        step_info = list()\n",
    "        step_info.append(route[i])\n",
    "        try:\n",
    "            name = graph[route[i]][route[j]][0]['name']\n",
    "            # Sometimes a street may change names within a segment - for example, switching\n",
    "            # from west to east.  In these cases we will just take the first name.\n",
    "            if type(name) == list:\n",
    "                name = name[0]\n",
    "        except KeyError:\n",
    "            # Sometimes street names are labeled as \"links\"\n",
    "            # In these cases I will relabel them with the previous street\n",
    "            try:\n",
    "                name = graph[route[i-1]][route[j-1]][0]['name']\n",
    "            except KeyError:\n",
    "                name = 'Unnamed'\n",
    "        step_info.append(name)\n",
    "        try:\n",
    "            seg_len = graph[route[i]][route[j]][0]['length']\n",
    "        except KeyError:\n",
    "            seg_len = 0\n",
    "        step_info.append(seg_len)\n",
    "        # We want to calculate the direction the edge is travelling in\n",
    "        start = node_to_coords(graph, route[i])\n",
    "        end = node_to_coords(graph, route[j])\n",
    "        # Use above function to calculate the direction from the start of the \n",
    "        # edge to its end\n",
    "        step_info.append(direction_between_points(start, end))\n",
    "        \n",
    "        seg_speed = graph[route[i]][route[j]][0]['speed_kph']\n",
    "        step_info.append(seg_speed)\n",
    "        step_info.append(route[j])\n",
    "        # Identify if the end node of the edge is a destination\n",
    "        if route[j] in dests_list:\n",
    "            step_info.append('Yes')\n",
    "        else:\n",
    "            step_info.append('No')\n",
    "        \n",
    "        route_info.append(step_info)\n",
    "        i +=1\n",
    "        j +=1\n",
    "\n",
    "    # Create a data frame of this information\n",
    "    columns = ['Start Node', 'Street Name', 'Length', 'Direction', 'Speed', 'End Node', 'Destination?']\n",
    "    return pd.DataFrame(route_info, columns=columns)"
   ]
  },
  {
   "cell_type": "code",
   "execution_count": 45,
   "id": "recognized-cigarette",
   "metadata": {},
   "outputs": [],
   "source": [
    "full_route_df = full_route_info(G, route_list, visited)"
   ]
  },
  {
   "cell_type": "code",
   "execution_count": 46,
   "id": "biological-custom",
   "metadata": {},
   "outputs": [],
   "source": [
    "def get_turn_dir(graph, node1, node2, node3):\n",
    "    \"\"\"\n",
    "    node1 is starting node for first segment,\n",
    "    node2 is the shared node between segments,\n",
    "    node3 is the end node of second segment.\n",
    "    \"\"\"\n",
    "    # First, get coordinates for each of the nodes\n",
    "    p1 = [graph.nodes[node1]['x'], graph.nodes[node1]['y']]\n",
    "    p2 = [graph.nodes[node2]['x'], graph.nodes[node2]['y']]\n",
    "    p3 = [graph.nodes[node3]['x'], graph.nodes[node3]['y']]\n",
    "    \n",
    "    # Next, define the line segments as vectors\n",
    "    p1top2 = [m - n for m,n in zip(p2,p1)]\n",
    "    p2top3 = [m - n for m,n in zip(p3,p2)]\n",
    "    p1top3 = [m - n for m,n in zip(p3,p1)]\n",
    "    \n",
    "    # Next, compute the cross product of the vectors\n",
    "    crossprod = np.cross(p1top3, p1top2)\n",
    "    \n",
    "    if crossprod > 0:\n",
    "        return 'Right'\n",
    "    elif crossprod < 0:\n",
    "        return 'Left'\n",
    "    else:\n",
    "        return 'No turn'"
   ]
  },
  {
   "cell_type": "code",
   "execution_count": 47,
   "id": "suffering-cabinet",
   "metadata": {},
   "outputs": [],
   "source": [
    "def add_turns(route_df, graph):\n",
    "    \"\"\"\n",
    "    Locate all the rows where the street name changes in the following row.\n",
    "    Create a dictionary with these as keys - the values will calculate the direction\n",
    "    of the turn using the previous function. \n",
    "    Adds a new column in the df showing the turn direction.\n",
    "    \"\"\"\n",
    "    # Get the rows where the street changes in the following row\n",
    "    # These will be the turns\n",
    "    turn_indexes = []\n",
    "    for ind in route_df.index:\n",
    "        if ind == route_df.index[-1]:\n",
    "            pass\n",
    "        elif route_df.iloc[ind]['Street Name'] == route_df.iloc[ind+1]['Street Name'] and ind != route_df.index[-1]:\n",
    "            pass\n",
    "        else:\n",
    "            turn_indexes.append(ind)\n",
    "    # Use the above function to get the direction of these turns \n",
    "    turns_to_make = dict()\n",
    "    for ind in turn_indexes:\n",
    "        turn_dir = get_turn_dir(graph, route_df.iloc[ind]['Start Node'], route_df.iloc[ind]['End Node'], route_df.iloc[ind+1]['End Node'])\n",
    "        turns_to_make[ind] = turn_dir\n",
    "    # Create a new column in the dataframe for this information\n",
    "    turns_list = [None] * len(route_df)\n",
    "    for i in turns_to_make.keys():\n",
    "        turns_list[i] = turns_to_make[i]\n",
    "    \n",
    "    route_df['Turn Direction'] = turns_list\n",
    "    return route_df"
   ]
  },
  {
   "cell_type": "code",
   "execution_count": 48,
   "id": "authentic-dating",
   "metadata": {},
   "outputs": [
    {
     "data": {
      "text/html": [
       "<div>\n",
       "<style scoped>\n",
       "    .dataframe tbody tr th:only-of-type {\n",
       "        vertical-align: middle;\n",
       "    }\n",
       "\n",
       "    .dataframe tbody tr th {\n",
       "        vertical-align: top;\n",
       "    }\n",
       "\n",
       "    .dataframe thead th {\n",
       "        text-align: right;\n",
       "    }\n",
       "</style>\n",
       "<table border=\"1\" class=\"dataframe\">\n",
       "  <thead>\n",
       "    <tr style=\"text-align: right;\">\n",
       "      <th></th>\n",
       "      <th>Start Node</th>\n",
       "      <th>Street Name</th>\n",
       "      <th>Length</th>\n",
       "      <th>Direction</th>\n",
       "      <th>Speed</th>\n",
       "      <th>End Node</th>\n",
       "      <th>Destination?</th>\n",
       "      <th>Turn Direction</th>\n",
       "    </tr>\n",
       "  </thead>\n",
       "  <tbody>\n",
       "    <tr>\n",
       "      <th>0</th>\n",
       "      <td>392180675</td>\n",
       "      <td>Perry Street</td>\n",
       "      <td>214.096</td>\n",
       "      <td>northwest</td>\n",
       "      <td>46.5</td>\n",
       "      <td>392173691</td>\n",
       "      <td>No</td>\n",
       "      <td>Right</td>\n",
       "    </tr>\n",
       "    <tr>\n",
       "      <th>1</th>\n",
       "      <td>392173691</td>\n",
       "      <td>Mary Street East</td>\n",
       "      <td>102.213</td>\n",
       "      <td>east</td>\n",
       "      <td>46.5</td>\n",
       "      <td>392176667</td>\n",
       "      <td>No</td>\n",
       "      <td>None</td>\n",
       "    </tr>\n",
       "    <tr>\n",
       "      <th>2</th>\n",
       "      <td>392176667</td>\n",
       "      <td>Mary Street East</td>\n",
       "      <td>122.543</td>\n",
       "      <td>east</td>\n",
       "      <td>46.5</td>\n",
       "      <td>392177551</td>\n",
       "      <td>No</td>\n",
       "      <td>None</td>\n",
       "    </tr>\n",
       "    <tr>\n",
       "      <th>3</th>\n",
       "      <td>392177551</td>\n",
       "      <td>Mary Street East</td>\n",
       "      <td>98.586</td>\n",
       "      <td>east</td>\n",
       "      <td>46.5</td>\n",
       "      <td>392175396</td>\n",
       "      <td>No</td>\n",
       "      <td>None</td>\n",
       "    </tr>\n",
       "    <tr>\n",
       "      <th>4</th>\n",
       "      <td>392175396</td>\n",
       "      <td>Mary Street East</td>\n",
       "      <td>363.156</td>\n",
       "      <td>east</td>\n",
       "      <td>50.0</td>\n",
       "      <td>4572130288</td>\n",
       "      <td>No</td>\n",
       "      <td>None</td>\n",
       "    </tr>\n",
       "    <tr>\n",
       "      <th>...</th>\n",
       "      <td>...</td>\n",
       "      <td>...</td>\n",
       "      <td>...</td>\n",
       "      <td>...</td>\n",
       "      <td>...</td>\n",
       "      <td>...</td>\n",
       "      <td>...</td>\n",
       "      <td>...</td>\n",
       "    </tr>\n",
       "    <tr>\n",
       "      <th>91</th>\n",
       "      <td>392173311</td>\n",
       "      <td>Thickson Road</td>\n",
       "      <td>353.883</td>\n",
       "      <td>southeast</td>\n",
       "      <td>60.0</td>\n",
       "      <td>288835122</td>\n",
       "      <td>No</td>\n",
       "      <td>Left</td>\n",
       "    </tr>\n",
       "    <tr>\n",
       "      <th>92</th>\n",
       "      <td>288835122</td>\n",
       "      <td>Kathleen Street</td>\n",
       "      <td>198.704</td>\n",
       "      <td>east</td>\n",
       "      <td>46.5</td>\n",
       "      <td>392170403</td>\n",
       "      <td>No</td>\n",
       "      <td>None</td>\n",
       "    </tr>\n",
       "    <tr>\n",
       "      <th>93</th>\n",
       "      <td>392170403</td>\n",
       "      <td>Kathleen Street</td>\n",
       "      <td>325.551</td>\n",
       "      <td>southeast</td>\n",
       "      <td>46.5</td>\n",
       "      <td>288835094</td>\n",
       "      <td>No</td>\n",
       "      <td>Left</td>\n",
       "    </tr>\n",
       "    <tr>\n",
       "      <th>94</th>\n",
       "      <td>288835094</td>\n",
       "      <td>Dundas Street East</td>\n",
       "      <td>101.678</td>\n",
       "      <td>east</td>\n",
       "      <td>50.0</td>\n",
       "      <td>392162811</td>\n",
       "      <td>No</td>\n",
       "      <td>None</td>\n",
       "    </tr>\n",
       "    <tr>\n",
       "      <th>95</th>\n",
       "      <td>392162811</td>\n",
       "      <td>Dundas Street East</td>\n",
       "      <td>224.590</td>\n",
       "      <td>east</td>\n",
       "      <td>50.0</td>\n",
       "      <td>290584416</td>\n",
       "      <td>Yes</td>\n",
       "      <td>None</td>\n",
       "    </tr>\n",
       "  </tbody>\n",
       "</table>\n",
       "<p>96 rows × 8 columns</p>\n",
       "</div>"
      ],
      "text/plain": [
       "    Start Node         Street Name   Length  Direction  Speed    End Node  \\\n",
       "0    392180675        Perry Street  214.096  northwest   46.5   392173691   \n",
       "1    392173691    Mary Street East  102.213       east   46.5   392176667   \n",
       "2    392176667    Mary Street East  122.543       east   46.5   392177551   \n",
       "3    392177551    Mary Street East   98.586       east   46.5   392175396   \n",
       "4    392175396    Mary Street East  363.156       east   50.0  4572130288   \n",
       "..         ...                 ...      ...        ...    ...         ...   \n",
       "91   392173311       Thickson Road  353.883  southeast   60.0   288835122   \n",
       "92   288835122     Kathleen Street  198.704       east   46.5   392170403   \n",
       "93   392170403     Kathleen Street  325.551  southeast   46.5   288835094   \n",
       "94   288835094  Dundas Street East  101.678       east   50.0   392162811   \n",
       "95   392162811  Dundas Street East  224.590       east   50.0   290584416   \n",
       "\n",
       "   Destination? Turn Direction  \n",
       "0            No          Right  \n",
       "1            No           None  \n",
       "2            No           None  \n",
       "3            No           None  \n",
       "4            No           None  \n",
       "..          ...            ...  \n",
       "91           No           Left  \n",
       "92           No           None  \n",
       "93           No           Left  \n",
       "94           No           None  \n",
       "95          Yes           None  \n",
       "\n",
       "[96 rows x 8 columns]"
      ]
     },
     "execution_count": 48,
     "metadata": {},
     "output_type": "execute_result"
    }
   ],
   "source": [
    "route_df = add_turns(full_route_df, G)\n",
    "route_df"
   ]
  },
  {
   "cell_type": "code",
   "execution_count": 49,
   "id": "impossible-tomato",
   "metadata": {},
   "outputs": [],
   "source": [
    "def avoid_a_street(graph, street_list):\n",
    "    \"\"\"\n",
    "    Will take a list of street names and return a new graph with these\n",
    "    edges removed.\n",
    "    Since the graph is defined at the start and will be used for all uses,\n",
    "    we first make a copy of the graph before manipulating it.\n",
    "    Returns a new graph object with appropriate edges removed.\n",
    "    \"\"\"\n",
    "    G2 = nx.Graph.copy(graph)\n",
    "    edges_to_remove = []\n",
    "    for edge in G2.edges:\n",
    "        try:\n",
    "            # Get the street name for each edge segment\n",
    "            seg = G2.edges[edge][0]['name']\n",
    "            # Add to list of edges to be removed\n",
    "            if seg in street_list:\n",
    "                edges_to_remove.append(edge)\n",
    "        except KeyError:\n",
    "            pass\n",
    "    # Remove edges\n",
    "    G2.remove_edges_from(edges_to_remove)\n",
    "    return G2"
   ]
  },
  {
   "cell_type": "code",
   "execution_count": 50,
   "id": "formal-division",
   "metadata": {},
   "outputs": [],
   "source": [
    "def avoid_a_roadtype(graph, street_type_list):\n",
    "    \"\"\"\n",
    "    Will take a road type - 'motorway', 'secondary', 'tertiary', 'residential' - \n",
    "    and remove this edges from the graph. \n",
    "    This will allow a user to avoid high speed, or low speed, roads, if possible.\n",
    "    \n",
    "    NOTE:\n",
    "    This function will always follow avoid_a_street and so will take a copy of a graph.\n",
    "    Graph copies have their information stored at inside a nested dictionary.\n",
    "    \"\"\"\n",
    "    G2 = nx.Graph.copy(graph)\n",
    "    edges_to_remove = []\n",
    "    for edge in G2.edges:\n",
    "        try:\n",
    "            # The highway attribute of the edge gives the road type\n",
    "            seg = G2.edges[edge][0][0]['highway']\n",
    "            if seg in street_type_list:\n",
    "                edges_to_remove.append(edge)\n",
    "        except KeyError:\n",
    "            pass\n",
    "    G2.remove_edges_from(edges_to_remove)\n",
    "    return G2"
   ]
  },
  {
   "cell_type": "markdown",
   "id": "religious-oxide",
   "metadata": {},
   "source": [
    "### Getting User Specifications"
   ]
  },
  {
   "cell_type": "code",
   "execution_count": 51,
   "id": "surface-passion",
   "metadata": {},
   "outputs": [],
   "source": [
    "def get_starting_loc():\n",
    "    \"\"\"\n",
    "    Prompts the user for their starting address.\n",
    "    \"\"\"\n",
    "    print('Enter your starting address and city in full.')\n",
    "    print('Ex: 23 Vanier Street Whitby')\n",
    "    start = input()\n",
    "    return start.title()"
   ]
  },
  {
   "cell_type": "code",
   "execution_count": 52,
   "id": "conditional-heather",
   "metadata": {},
   "outputs": [],
   "source": [
    "def get_destinations():\n",
    "    \"\"\"\n",
    "    Prompts the user for their destinations.\n",
    "    \"\"\"\n",
    "    print('\\nEnter your destination addresses and cities in full.')\n",
    "    print('Press enter after each entry.')\n",
    "    print('Type \"DONE\" when you are finished.')\n",
    "    destinations = []\n",
    "    while True:\n",
    "        dest = input()\n",
    "        if dest.upper() == 'DONE':\n",
    "            break\n",
    "        elif dest:\n",
    "            destinations.append(dest.title())\n",
    "    return destinations"
   ]
  },
  {
   "cell_type": "code",
   "execution_count": 53,
   "id": "great-interaction",
   "metadata": {},
   "outputs": [],
   "source": [
    "def get_customizations():\n",
    "    \"\"\"\n",
    "    Asks the user to enter a list of streets they want to avoid,\n",
    "    one at a time.\n",
    "    Returns a list of street names.\n",
    "    \"\"\"\n",
    "    print('\\nEnter any streets you want to avoid.')\n",
    "    print('Enter in full. ex: \"Brock Street\".')\n",
    "    print('Press enter after each entry.')\n",
    "    print('Type \"DONE\" when you are finished.')\n",
    "    avoid = []\n",
    "    while True:\n",
    "        street = input()\n",
    "        if street.upper() == 'DONE':\n",
    "            break\n",
    "        else:\n",
    "            avoid.append(street.title())\n",
    "    return avoid"
   ]
  },
  {
   "cell_type": "code",
   "execution_count": 54,
   "id": "documentary-spray",
   "metadata": {},
   "outputs": [],
   "source": [
    "def get_customizations2():\n",
    "    \"\"\"\n",
    "    Gets further user specifications based on road speeds.\n",
    "    Returns a list of road types to be removed.\n",
    "    \"\"\"\n",
    "    avoid = []\n",
    "    highways = input('Avoid highways? (Y/N): ')\n",
    "    if highways.lower().startswith('y'):\n",
    "        avoid.append('motorway')\n",
    "\n",
    "    return avoid"
   ]
  },
  {
   "cell_type": "code",
   "execution_count": 55,
   "id": "differential-daily",
   "metadata": {},
   "outputs": [],
   "source": [
    "def get_customizations3():\n",
    "    \"\"\"\n",
    "    Gets further user specifications on what to optimize on.\n",
    "    \"\"\"\n",
    "    how_opt = input('Do you want to optimize based on travel time (T) or distance traveled (D)? ')\n",
    "    if how_opt.lower().startswith('T'):\n",
    "        return 'travel_time'\n",
    "    else:\n",
    "        return 'length'"
   ]
  },
  {
   "cell_type": "markdown",
   "id": "former-islam",
   "metadata": {},
   "source": [
    "### Putting it Together"
   ]
  },
  {
   "cell_type": "code",
   "execution_count": 56,
   "id": "nuclear-controversy",
   "metadata": {},
   "outputs": [],
   "source": [
    "# Build the graph - this is Whitby/Oshawa for testing purposes - east, west, south, north\n",
    "G = build_graph(43.984503, 43.862879, -78.954552, -78.821660)"
   ]
  },
  {
   "cell_type": "code",
   "execution_count": 57,
   "id": "heated-november",
   "metadata": {},
   "outputs": [],
   "source": [
    "def run_multi_opt_path():\n",
    "    \"\"\"\n",
    "    This is the main function that takes all user inputs and returns the optimized routes \n",
    "    for each of the drivers. \n",
    "    \"\"\"\n",
    "    # Get the user's starting location and destination\n",
    "    # If their input does not provide coordinates - if they enter a spelling of a street\n",
    "    # that does not exist - the address_to_coord function will alert them and here they will\n",
    "    # be reprompted for a valud address. \n",
    "    while True:\n",
    "        start = get_starting_loc()\n",
    "        start = address_to_coord(start)\n",
    "        if start:\n",
    "            break\n",
    "    \n",
    "    # Get destination addresses \n",
    "    dest = get_destinations()\n",
    "    # Get the coordinates of each\n",
    "    dest_coords = []\n",
    "    for i in dest:\n",
    "        dest_coords.append(address_to_coord(i))\n",
    "    \n",
    "    # Prompt user for the number of drivers    \n",
    "    num_drivers = int(input('How many drivers are available? (Ex: 2) '))\n",
    "    \n",
    "    # Cluster the destinations according to this number\n",
    "    clusters = cluster_destinations(dest_coords, num_drivers)\n",
    "    \n",
    "    # Get the user's customizations \n",
    "    roads_to_avoid = get_customizations()\n",
    "    speeds_to_avoid = get_customizations2()\n",
    "    opt_type = get_customizations3()\n",
    "    \n",
    "    # Use the functions to remove necessary edges from the graph\n",
    "    G2 = avoid_a_street(G, roads_to_avoid)\n",
    "    G3 = avoid_a_roadtype(G2, speeds_to_avoid)\n",
    "    \n",
    "    # Convert locations into nodes\n",
    "    start_node = coords_to_node(G2, start)\n",
    "    # Get destination nodes\n",
    "    destination_nodes = []\n",
    "    for i in range(len(clusters)):\n",
    "        inodes = []\n",
    "        for x in clusters[i]:\n",
    "            inodes.append(coords_to_node(G, x))\n",
    "        destination_nodes.append(inodes)\n",
    "    \n",
    "    # For each driver, get their route\n",
    "    for driver in range(len(clusters)):\n",
    "        # Display the driver number and their assigned destinations \n",
    "        print('\\nDriver', driver+1, 'Route:')\n",
    "        print('Destinations: ', destination_nodes[driver])\n",
    "        # Create empty list of their visited destinations and their overall route\n",
    "        visited = []\n",
    "        route = []\n",
    "        # Use the algorithm to build these lists\n",
    "        try:\n",
    "            aStarMulti(start_node, destination_nodes[driver], G3, opt_type, visited, route)\n",
    "        except:\n",
    "            return 'There is no possible path with these specifications.'\n",
    "        # Convert the route into one list\n",
    "        route_list = []\n",
    "        route_list.append(route[0][0])\n",
    "        for i in route:\n",
    "            for j in i:\n",
    "                if route_list[-1] != j:\n",
    "                    route_list.append(j)\n",
    "        # Get the full route information\n",
    "        full_route_df = full_route_info(G, route_list, visited)\n",
    "        # Add in the turns\n",
    "        route_df = add_turns(full_route_df, G)\n",
    "        # Display the route information as a dataframe\n",
    "        # MORE WORK WILL BE DONE HERE TO SIMPLY THIS OUTPUT\n",
    "        # (ie. combining segments that follow the same road)\n",
    "        print(route_df)"
   ]
  },
  {
   "cell_type": "markdown",
   "id": "external-wound",
   "metadata": {},
   "source": [
    "### TESTING"
   ]
  },
  {
   "cell_type": "markdown",
   "id": "geological-dance",
   "metadata": {},
   "source": [
    "SCENARIO:  Canada Post has a depot in Whitby, along with six post office locations.  We have a certain number of trucks that will take sorted mail from the depot to the various locations for delivery in their individual areas."
   ]
  },
  {
   "cell_type": "markdown",
   "id": "liberal-brook",
   "metadata": {},
   "source": [
    "![Post Offices Whitby](canada_post.png)"
   ]
  },
  {
   "cell_type": "code",
   "execution_count": 58,
   "id": "critical-pharmacology",
   "metadata": {},
   "outputs": [],
   "source": [
    "# Testing the above scenario\n",
    "# Remove some of Whitby's most common roads"
   ]
  },
  {
   "cell_type": "code",
   "execution_count": 59,
   "id": "fresh-compression",
   "metadata": {},
   "outputs": [
    {
     "name": "stdout",
     "output_type": "stream",
     "text": [
      "Enter your starting address and city in full.\n",
      "Ex: 23 Vanier Street Whitby\n",
      "209 Dundas St E Whitby\n",
      "\n",
      "Enter your destination addresses and cities in full.\n",
      "Press enter after each entry.\n",
      "Type \"DONE\" when you are finished.\n",
      "910 Dundas St W Whitby\n",
      "3100 Garden Street Whitby\n",
      "4081 Thickson Road N Whitby\n",
      "728 Anderson Street Whitby\n",
      "1801 Dundas St E Whitby\n",
      "3500 Brock St N Whitby\n",
      "done\n",
      "How many drivers are available? (Ex: 2) 3\n",
      "\n",
      "Enter any streets you want to avoid.\n",
      "Enter in full. ex: \"Brock Street\".\n",
      "Press enter after each entry.\n",
      "Type \"DONE\" when you are finished.\n",
      "Rossland Road East\n",
      "Rossland Road West\n",
      "Taunton Road East\n",
      "Taunton Road West\n",
      "done\n",
      "Avoid highways? (Y/N): n\n",
      "Do you want to optimize based on travel time (T) or distance traveled (D)? d\n",
      "\n",
      "Driver 1 Route:\n",
      "Destinations:  [392171046, 290584416]\n",
      "    Start Node         Street Name   Length  Direction  Speed    End Node  \\\n",
      "0    392180675        Perry Street  214.096  northwest   46.5   392173691   \n",
      "1    392173691    Mary Street East  102.213       east   46.5   392176667   \n",
      "2    392176667    Mary Street East  122.543       east   46.5   392177551   \n",
      "3    392177551    Mary Street East   98.586       east   46.5   392175396   \n",
      "4    392175396    Mary Street East  363.156       east   50.0  4572130288   \n",
      "5   4572130288    Mary Street East   11.683       east   46.5   392179065   \n",
      "6    392179065       Garden Street   57.271  northwest   50.0  4572131090   \n",
      "7   4572131090       Garden Street   68.531  northwest   50.0   394354583   \n",
      "8    394354583       Garden Street  124.887  northwest   50.0  5536826019   \n",
      "9   5536826019       Garden Street  324.105  northwest   50.0   392168089   \n",
      "10   392168089     Martinet Street  139.082       east   46.5   392170847   \n",
      "11   392170847       Bradley Drive   68.014  southeast   46.5   392528859   \n",
      "12   392528859       Bradley Drive   68.387  southeast   46.5   392528875   \n",
      "13   392528875       Bradley Drive  172.750       east   46.5   392179657   \n",
      "14   392179657       Pringle Drive  584.934  northeast   46.5   392176605   \n",
      "15   392176605   Ribblesdale Drive  273.767  northwest   46.5   288835073   \n",
      "16   288835073        Manning Road  227.233       east   55.2   309725827   \n",
      "17   309725827     Anderson Street   69.199  southeast   55.2  4558860402   \n",
      "18  4558860402     Anderson Street  241.727      south   55.2   392529034   \n",
      "19   392529034     Maplewood Drive   73.011       east   46.5   392174080   \n",
      "20   392174080     Glen Hill Drive  158.200  northwest   46.5   392171046   \n",
      "21   392171046     Glen Hill Drive  345.153       east   46.5   392171472   \n",
      "22   392171472     Glen Hill Drive  105.918  southeast   46.5   392176576   \n",
      "23   392176576     Glen Hill Drive   77.395       east   46.5   392174119   \n",
      "24   392174119     Glen Hill Drive  322.248  southeast   46.5   392168943   \n",
      "25   392168943    Melissa Crescent  555.968  southeast   46.5   392170230   \n",
      "26   392170230     Glen Hill Drive   62.329  southeast   46.5   392163621   \n",
      "27   392163621    Crawforth Street  103.066       east   46.5   392177952   \n",
      "28   392177952    Crawforth Street  145.895       east   46.5   288835122   \n",
      "29   288835122     Kathleen Street  198.704       east   46.5   392170403   \n",
      "30   392170403     Kathleen Street  325.551  southeast   46.5   288835094   \n",
      "31   288835094  Dundas Street East  101.678       east   50.0   392162811   \n",
      "32   392162811  Dundas Street East  224.590       east   50.0   290584416   \n",
      "\n",
      "   Destination? Turn Direction  \n",
      "0            No          Right  \n",
      "1            No           None  \n",
      "2            No           None  \n",
      "3            No           None  \n",
      "4            No           None  \n",
      "5            No           Left  \n",
      "6            No           None  \n",
      "7            No           None  \n",
      "8            No           None  \n",
      "9            No          Right  \n",
      "10           No          Right  \n",
      "11           No           None  \n",
      "12           No           None  \n",
      "13           No           Left  \n",
      "14           No           Left  \n",
      "15           No          Right  \n",
      "16           No          Right  \n",
      "17           No           None  \n",
      "18           No           Left  \n",
      "19           No           Left  \n",
      "20          Yes           None  \n",
      "21           No           None  \n",
      "22           No           None  \n",
      "23           No           None  \n",
      "24           No          Right  \n",
      "25           No           Left  \n",
      "26           No           Left  \n",
      "27           No           None  \n",
      "28           No           Left  \n",
      "29           No           None  \n",
      "30           No           Left  \n",
      "31           No           None  \n",
      "32          Yes           None  \n",
      "\n",
      "Driver 2 Route:\n",
      "Destinations:  [392164099, 3877460879, 392177756]\n",
      "    Start Node        Street Name   Length  Direction  Speed    End Node  \\\n",
      "0    392180675       Perry Street  214.096  northwest   46.5   392173691   \n",
      "1    392173691       Perry Street  144.853      north   46.5   392175584   \n",
      "2    392175584       Perry Street  282.857  northwest   46.5   392174561   \n",
      "3    392174561       Perry Street  140.866  northwest   46.5   392175615   \n",
      "4    392175615  Maple Street East  135.654       west   46.5   392170758   \n",
      "..         ...                ...      ...        ...    ...         ...   \n",
      "69  3877460870      Thickson Road   98.485      north   55.2  1077631215   \n",
      "70  1077631215      Thickson Road   28.271      north   55.2  3877460873   \n",
      "71  3877460873      Thickson Road   12.117      north   55.2  3877460874   \n",
      "72  3877460874      Thickson Road   29.791      north   55.2  3877460875   \n",
      "73  3877460875      Thickson Road  256.382      north   55.2  3877460879   \n",
      "\n",
      "   Destination? Turn Direction  \n",
      "0            No           None  \n",
      "1            No           None  \n",
      "2            No           None  \n",
      "3            No           Left  \n",
      "4            No          Right  \n",
      "..          ...            ...  \n",
      "69           No           None  \n",
      "70           No           None  \n",
      "71           No           None  \n",
      "72           No           None  \n",
      "73          Yes           None  \n",
      "\n",
      "[74 rows x 8 columns]\n",
      "\n",
      "Driver 3 Route:\n",
      "Destinations:  [392166620]\n",
      "    Start Node         Street Name   Length  Direction  Speed    End Node  \\\n",
      "0    392180675  Dundas Street East   47.679       west   50.0   392173612   \n",
      "1    392173612  Dundas Street East   56.635       west   50.0  2963661532   \n",
      "2   2963661532  Dundas Street East   44.804       west   50.0      702874   \n",
      "3       702874  Dundas Street West  102.749       west   50.0   394352259   \n",
      "4    394352259  Dundas Street West  100.070       west   50.0   392167102   \n",
      "5    392167102  Dundas Street West   89.639       west   50.0   392180382   \n",
      "6    392180382  Dundas Street West   18.734       west   50.0   392169436   \n",
      "7    392169436  Dundas Street West   85.263       west   50.0   392172333   \n",
      "8    392172333  Dundas Street West   97.494       west   50.0   392173968   \n",
      "9    392173968  Dundas Street West   19.701       west   50.0   392171391   \n",
      "10   392171391  Dundas Street West  256.618       west   50.0  4053244946   \n",
      "11  4053244946  Dundas Street West   47.417       west   50.0   289675303   \n",
      "12   289675303        Annes Street   11.361      south   49.6  8156250739   \n",
      "13  8156250739        Annes Street  231.695      south   50.0   392176066   \n",
      "14   392176066  Dunlop Street West   91.156       west   46.5   392180442   \n",
      "15   392180442       Calais Street  800.692  southwest   46.5   392170471   \n",
      "16   392170471       Calais Street  120.202       west   46.5   392166620   \n",
      "\n",
      "   Destination? Turn Direction  \n",
      "0            No           None  \n",
      "1            No           None  \n",
      "2            No           Left  \n",
      "3            No           None  \n",
      "4            No           None  \n",
      "5            No           None  \n",
      "6            No           None  \n",
      "7            No           None  \n",
      "8            No           None  \n",
      "9            No           None  \n",
      "10           No           None  \n",
      "11           No           Left  \n",
      "12           No           None  \n",
      "13           No          Right  \n",
      "14           No           Left  \n",
      "15           No           None  \n",
      "16          Yes           None  \n"
     ]
    }
   ],
   "source": [
    "run_multi_opt_path()"
   ]
  },
  {
   "cell_type": "code",
   "execution_count": 63,
   "id": "superb-bubble",
   "metadata": {},
   "outputs": [],
   "source": [
    "# Create a situation where no path will be possible"
   ]
  },
  {
   "cell_type": "code",
   "execution_count": 59,
   "id": "golden-pixel",
   "metadata": {},
   "outputs": [
    {
     "name": "stdout",
     "output_type": "stream",
     "text": [
      "Enter your starting address and city in full.\n",
      "Ex: 23 Vanier Street Whitby\n",
      "209 Dundas St E Whitby\n",
      "\n",
      "Enter your destination addresses and cities in full.\n",
      "Press enter after each entry.\n",
      "Type \"DONE\" when you are finished.\n",
      "4081 Thickson Road N Whitby\n",
      "done\n",
      "How many drivers are available? (Ex: 2) 1\n",
      "\n",
      "Enter any streets you want to avoid.\n",
      "Enter in full. ex: \"Brock Street\".\n",
      "Press enter after each entry.\n",
      "Type \"DONE\" when you are finished.\n",
      "Dundas Street East\n",
      "Perry Street\n",
      "done\n",
      "Avoid highways? (Y/N): n\n",
      "Do you want to optimize based on travel time (T) or distance traveled (D)? d\n",
      "\n",
      "Driver 1 Route:\n",
      "Destinations:  [3877460879]\n"
     ]
    },
    {
     "data": {
      "text/plain": [
       "'There is no possible path with these specifications.'"
      ]
     },
     "execution_count": 59,
     "metadata": {},
     "output_type": "execute_result"
    }
   ],
   "source": [
    "run_multi_opt_path()"
   ]
  },
  {
   "cell_type": "code",
   "execution_count": null,
   "id": "norman-comedy",
   "metadata": {},
   "outputs": [],
   "source": []
  }
 ],
 "metadata": {
  "kernelspec": {
   "display_name": "Python [conda env:capstone2]",
   "language": "python",
   "name": "conda-env-capstone2-py"
  },
  "language_info": {
   "codemirror_mode": {
    "name": "ipython",
    "version": 3
   },
   "file_extension": ".py",
   "mimetype": "text/x-python",
   "name": "python",
   "nbconvert_exporter": "python",
   "pygments_lexer": "ipython3",
   "version": "3.8.6"
  }
 },
 "nbformat": 4,
 "nbformat_minor": 5
}
